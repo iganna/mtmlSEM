{
 "cells": [
  {
   "cell_type": "markdown",
   "id": "688c6667",
   "metadata": {},
   "source": [
    "# Run incorporated tests"
   ]
  },
  {
   "cell_type": "code",
   "execution_count": 2,
   "id": "a78bc217",
   "metadata": {},
   "outputs": [],
   "source": [
    "from unit_tests import test0, test1, test2, test3\n"
   ]
  },
  {
   "cell_type": "code",
   "execution_count": 3,
   "id": "48c943fa",
   "metadata": {},
   "outputs": [
    {
     "name": "stdout",
     "output_type": "stream",
     "text": [
      "  lval    rval  Estimate  mod_name op\n",
      "0   x1      g1  0.689431  mod_init  ~\n",
      "1   x1      g2 -0.365335  mod_init  ~\n",
      "2   x1  group1  9.799819  mod_init  ~\n",
      "semopy\n",
      "  lval    rval  Estimate\n",
      "0   x1      g1  0.693191\n",
      "1   x1      g2 -0.359640\n",
      "2   x1  group1  9.766152\n"
     ]
    },
    {
     "name": "stderr",
     "output_type": "stream",
     "text": [
      "sample: 100%|██████████| 1200/1200 [00:03<00:00, 354.96it/s, 7 steps of size 7.27e-01. acc. prob=0.90]\n"
     ]
    },
    {
     "name": "stdout",
     "output_type": "stream",
     "text": [
      "semba\n",
      "    lval    rval  Estimate\n",
      "_b1   x1      g1  0.710541\n",
      "_b2   x1      g2 -0.343500\n",
      "_b3   x1  group1  9.544709\n",
      "params\n",
      "  lval  op rval  Estimate\n",
      "0   x1  ~~   x1  1.196558\n",
      "1   x1   ~   g1  0.800312\n",
      "2   x1   ~   g2 -0.374039\n"
     ]
    }
   ],
   "source": [
    "model_desc, data, model = test0()"
   ]
  },
  {
   "cell_type": "code",
   "execution_count": 4,
   "id": "a28d1726",
   "metadata": {},
   "outputs": [
    {
     "name": "stdout",
     "output_type": "stream",
     "text": [
      "======== show models ========\n",
      "# Model mod_init\n",
      "\n",
      "    eta1 =~ y1 + y2 + y3\n",
      "    \n",
      "=============================\n",
      "  lval  rval  Estimate  mod_name op\n",
      "0   y1  eta1  1.000000  mod_init  ~\n",
      "1   y2  eta1  1.183901  mod_init  ~\n",
      "2   y3  eta1 -0.406394  mod_init  ~\n",
      "semopy\n",
      "  lval  rval  Estimate\n",
      "0   y1  eta1  1.000000\n",
      "1   y2  eta1  0.799530\n",
      "2   y3  eta1 -0.188466\n"
     ]
    },
    {
     "name": "stderr",
     "output_type": "stream",
     "text": [
      "sample: 100%|██████████| 1200/1200 [00:04<00:00, 295.06it/s, 15 steps of size 2.42e-01. acc. prob=0.94]\n"
     ]
    },
    {
     "name": "stdout",
     "output_type": "stream",
     "text": [
      "semba\n",
      "    lval  rval  Estimate\n",
      "_b1   y1  eta1  1.000000\n",
      "_b2   y2  eta1  1.091242\n",
      "_b3   y3  eta1 -0.220850\n",
      "params\n",
      "   lval  op  rval  Estimate\n",
      "0  eta1  ~~  eta1  0.771231\n",
      "1    y1  ~~    y1  1.196558\n",
      "2    y2  ~~    y2  0.789892\n",
      "3    y3  ~~    y3  0.761897\n",
      "4    y2   ~  eta1  1.475178\n",
      "5    y3   ~  eta1 -0.315875\n"
     ]
    }
   ],
   "source": [
    "model_desc, data, model = test1()"
   ]
  },
  {
   "cell_type": "code",
   "execution_count": 5,
   "id": "922d68c3",
   "metadata": {},
   "outputs": [
    {
     "name": "stdout",
     "output_type": "stream",
     "text": [
      "======== show models ========\n",
      "# Model mod_init\n",
      "# Measurement part:\n",
      "eta1 =~ y1 + y2 + y3\n",
      "# Structural part:\n",
      "x1 ~ eta1 + g3 + g4\n",
      "eta1 ~ g1 + g2 + g3\n",
      "=============================\n",
      "   lval  rval  Estimate  mod_name op\n",
      "0  eta1    g1 -1.052552  mod_init  ~\n",
      "1  eta1    g2 -1.087721  mod_init  ~\n",
      "2  eta1    g3 -1.412912  mod_init  ~\n",
      "3    y1  eta1  1.000000  mod_init  ~\n",
      "4    y2  eta1  0.683169  mod_init  ~\n",
      "5    y3  eta1 -0.934737  mod_init  ~\n",
      "6    x1  eta1  0.637677  mod_init  ~\n",
      "7    x1    g3  0.838894  mod_init  ~\n",
      "8    x1    g4  0.223224  mod_init  ~\n",
      "semopy\n",
      "   lval  rval  Estimate\n",
      "0  eta1    g1 -1.079077\n",
      "1  eta1    g2 -1.161198\n",
      "2  eta1    g3 -1.409799\n",
      "3    y1  eta1  1.000000\n",
      "4    y2  eta1  0.660050\n",
      "5    y3  eta1 -0.912511\n",
      "6    x1  eta1  0.413270\n",
      "7    x1    g3  0.521975\n",
      "8    x1    g4  0.230362\n"
     ]
    },
    {
     "name": "stderr",
     "output_type": "stream",
     "text": [
      "sample: 100%|██████████| 1200/1200 [00:06<00:00, 175.72it/s, 15 steps of size 3.45e-01. acc. prob=0.93]\n"
     ]
    },
    {
     "name": "stdout",
     "output_type": "stream",
     "text": [
      "semba\n",
      "     lval  rval  Estimate\n",
      "_b7  eta1    g1  0.351457\n",
      "_b8  eta1    g2  0.387119\n",
      "_b9  eta1    g3  0.478421\n",
      "_b1    y1  eta1  1.000000\n",
      "_b2    y2  eta1 -1.860628\n",
      "_b3    y3  eta1  2.670006\n",
      "_b4    x1  eta1 -0.548937\n",
      "_b5    x1    g3  0.192445\n",
      "_b6    x1    g4  0.233391\n",
      "params\n",
      "    lval  op  rval  Estimate\n",
      "0   eta1  ~~  eta1  0.855060\n",
      "1     x1  ~~    x1  1.203338\n",
      "2     y1  ~~    y1  0.786700\n",
      "3     y2  ~~    y2  1.036913\n",
      "4     y3  ~~    y3  0.714603\n",
      "5     x1   ~  eta1  0.438666\n",
      "6     y2   ~  eta1  0.621414\n",
      "7     y3   ~  eta1 -0.871375\n",
      "8   eta1   ~    g1 -1.209325\n",
      "9   eta1   ~    g2 -1.201686\n",
      "10  eta1   ~    g3 -1.373533\n",
      "11    x1   ~    g3  0.705955\n",
      "12    x1   ~    g4 -0.822100\n"
     ]
    }
   ],
   "source": [
    "model_desc, data, model = test2()"
   ]
  },
  {
   "cell_type": "code",
   "execution_count": 6,
   "id": "51c4f51a",
   "metadata": {},
   "outputs": [
    {
     "name": "stdout",
     "output_type": "stream",
     "text": [
      "\n",
      "    x1 ~ g1 + g2 + group1\n",
      "    \n",
      "  lval      rval  Estimate  mod_name    op\n",
      "0   x1        g1  0.685427  mod_init     ~\n",
      "1   x1        g2 -0.385895  mod_init     ~\n",
      "2   x1  group1:0 -3.623120  mod_init  reff\n",
      "3   x1  group1:1  2.574789  mod_init  reff\n",
      "4   x1  group1:2  0.186209  mod_init  reff\n",
      "semopy with reff as variable\n",
      "  lval  op    rval  Estimate  Std. Err   z-value       p-value\n",
      "0   x1   ~      g1  0.616938  0.244990  2.518216  1.179510e-02\n",
      "1   x1   ~      g2  0.031653  0.255888  0.123699  9.015539e-01\n",
      "2   x1   ~  group1  2.169630  0.321999  6.738003  1.605782e-11\n",
      "3   x1  ~~      x1  5.700840  0.806221  7.071068  1.537437e-12\n",
      "semopy without reff variable\n",
      "  lval  op rval  Estimate  Std. Err   z-value       p-value\n",
      "0   x1   ~   g1  0.819827  0.293010  2.797948  5.142842e-03\n",
      "1   x1   ~   g2  0.226713  0.306462  0.739775  4.594364e-01\n",
      "2   x1  ~~   x1  8.281659  1.171203  7.071068  1.537437e-12\n",
      "semba\n",
      "    lval    rval  Estimate\n",
      "_b1   x1      g1  0.622060\n",
      "_b2   x1      g2  0.036892\n",
      "_b3   x1  group1  2.081442\n",
      "\n",
      "    x1 ~ g1 + g2 + group1\n",
      "    \n",
      "  lval  op    rval  Estimate  Std. Err   z-value       p-value\n",
      "0   x1   ~      g1  0.680248  0.110889  6.134504  8.542538e-10\n",
      "1   x1   ~      g2 -0.408148  0.117915 -3.461381  5.374112e-04\n",
      "2   x1   ~       1  3.277399  1.523693  2.150958  3.147952e-02\n",
      "3   x1  ~~      x1  1.167078  0.167583  6.964194  3.302913e-12\n",
      "4   x1   ~  group1  2.631913  5.685853  1.218281  2.231173e-01\n",
      "params\n",
      "  lval  op rval  Estimate\n",
      "0   x1  ~~   x1  1.196558\n",
      "1   x1   ~   g1  0.800312\n",
      "2   x1   ~   g2 -0.374039\n"
     ]
    },
    {
     "name": "stderr",
     "output_type": "stream",
     "text": [
      "/Users/anna/.conda/envs/mtmlsem/lib/python3.7/site-packages/semopy/univariate_blup.py:15: RuntimeWarning: invalid value encountered in log\n",
      "  g[1] = np.sum(yt * k * y) - np.sum(np.log(v ** 2 * k))\n"
     ]
    }
   ],
   "source": [
    "model_desc, data, model = test3()"
   ]
  },
  {
   "cell_type": "code",
   "execution_count": null,
   "id": "1e44bf77",
   "metadata": {},
   "outputs": [],
   "source": []
  }
 ],
 "metadata": {
  "kernelspec": {
   "display_name": "Python 3",
   "language": "python",
   "name": "python3"
  },
  "language_info": {
   "codemirror_mode": {
    "name": "ipython",
    "version": 3
   },
   "file_extension": ".py",
   "mimetype": "text/x-python",
   "name": "python",
   "nbconvert_exporter": "python",
   "pygments_lexer": "ipython3",
   "version": "3.7.9"
  }
 },
 "nbformat": 4,
 "nbformat_minor": 5
}
