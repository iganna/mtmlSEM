{
 "cells": [
  {
   "cell_type": "markdown",
   "id": "1aebfc19",
   "metadata": {},
   "source": [
    "# Chichpea example"
   ]
  },
  {
   "cell_type": "markdown",
   "id": "54344942",
   "metadata": {},
   "source": [
    "## Setup"
   ]
  },
  {
   "cell_type": "code",
   "execution_count": null,
   "id": "ef7eb3f5",
   "metadata": {},
   "outputs": [],
   "source": [
    "import os\n",
    "from mtml_model import mtmlModel\n",
    "from dataset import Data, CVset\n",
    "from pandas import read_csv\n",
    "from optimisation import *\n",
    "from semopy.efa import explore_cfa_model\n",
    "from utils import *\n",
    "\n",
    "path_data = 'data_cicer/'\n",
    "file_phens = path_data + 'data_phens.txt'\n",
    "file_snps = path_data + 'snp_2579_renamed.txt'\n",
    "snp_pref = 'Ca'\n"
   ]
  },
  {
   "cell_type": "markdown",
   "id": "c7bb241a",
   "metadata": {},
   "source": [
    "## Run the pipeline"
   ]
  },
  {
   "cell_type": "code",
   "execution_count": null,
   "id": "343fd934",
   "metadata": {},
   "outputs": [],
   "source": []
  }
 ],
 "metadata": {
  "kernelspec": {
   "display_name": "Python 3",
   "language": "python",
   "name": "python3"
  },
  "language_info": {
   "codemirror_mode": {
    "name": "ipython",
    "version": 3
   },
   "file_extension": ".py",
   "mimetype": "text/x-python",
   "name": "python",
   "nbconvert_exporter": "python",
   "pygments_lexer": "ipython3",
   "version": "3.7.9"
  }
 },
 "nbformat": 4,
 "nbformat_minor": 5
}
