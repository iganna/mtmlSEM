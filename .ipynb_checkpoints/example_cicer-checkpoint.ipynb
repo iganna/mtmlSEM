{
 "cells": [
  {
   "cell_type": "markdown",
   "id": "1aebfc19",
   "metadata": {},
   "source": [
    "# Chickpea example"
   ]
  },
  {
   "cell_type": "markdown",
   "id": "54344942",
   "metadata": {},
   "source": [
    "## Setup"
   ]
  },
  {
   "cell_type": "code",
   "execution_count": 1,
   "id": "ef7eb3f5",
   "metadata": {},
   "outputs": [],
   "source": [
    "import os\n",
    "from mtml_model import mtmlModel\n",
    "from dataset import Data, CVset\n",
    "from pandas import read_csv\n",
    "from optimisation import *\n",
    "from semopy.efa import explore_cfa_model\n",
    "from utils import *\n",
    "\n",
    "path_data = 'data_cicer/'\n",
    "file_phens = path_data + 'data_phens.txt'\n",
    "file_snps = path_data + 'snp_2579_renamed.txt'\n",
    "snp_pref = 'Ca'\n"
   ]
  },
  {
   "cell_type": "markdown",
   "id": "c7bb241a",
   "metadata": {},
   "source": [
    "## Read data"
   ]
  },
  {
   "cell_type": "code",
   "execution_count": 2,
   "id": "343fd934",
   "metadata": {},
   "outputs": [
    {
     "name": "stdout",
     "output_type": "stream",
     "text": [
      "Germ            0\n",
      "GBegF           0\n",
      "BegFEndF        0\n",
      "EndFBegM        0\n",
      "BegMEndM        0\n",
      "FloCol          0\n",
      "StemCol         0\n",
      "BushShape       0\n",
      "LeafSize        0\n",
      "FlowStemCol     0\n",
      "AscoRes         0\n",
      "StemBr          0\n",
      "StemL1ord       0\n",
      "StemBr1ord      0\n",
      "StemBr2ord      0\n",
      "PodD            0\n",
      "PodS            0\n",
      "Height          0\n",
      "Hlp             0\n",
      "NoPodsWeight    0\n",
      "PodsWeight      0\n",
      "PodsNumber      0\n",
      "SeedsNumber     0\n",
      "SeedsWeight     0\n",
      "PodShape        0\n",
      "PodLength       0\n",
      "PodWidth        0\n",
      "SeedShape       0\n",
      "SeedCol         0\n",
      "Seed1000W       0\n",
      "dtype: int64\n",
      "Imputation of phenotypes..\n",
      "Imputation of snps..\n",
      "Imputation is done.\n",
      "404\n"
     ]
    }
   ],
   "source": [
    "data_phens = read_csv(file_phens, sep='\\t', index_col=0)\n",
    "\n",
    "print(data_phens.isna().sum(axis=0))\n",
    "\n",
    "# Remove missing data\n",
    "data_phens = data_phens.loc[data_phens.isna().sum(axis=1) == 0, :]\n",
    "data_phens = data_phens.iloc[:, list(data_phens.nunique() > 2)]\n",
    "data_snps = read_csv(file_snps, sep='\\t', index_col=0)\n",
    "\n",
    "# Create data object\n",
    "data = Data(d_snps=data_snps, d_phens=data_phens)\n",
    "print(data.n_samples)"
   ]
  },
  {
   "cell_type": "markdown",
   "id": "25e3485a",
   "metadata": {},
   "source": [
    "## Create model"
   ]
  },
  {
   "cell_type": "code",
   "execution_count": 3,
   "id": "0c91eff7",
   "metadata": {},
   "outputs": [
    {
     "name": "stdout",
     "output_type": "stream",
     "text": [
      "SEM model was not defined\n"
     ]
    }
   ],
   "source": [
    "model = mtmlModel(data=data)"
   ]
  },
  {
   "cell_type": "code",
   "execution_count": 4,
   "id": "532e150e",
   "metadata": {},
   "outputs": [
    {
     "name": "stdout",
     "output_type": "stream",
     "text": [
      "Type of the latent structure is unconnected\n",
      "======== show models ========\n",
      "# Model mod0\n",
      "F0 =~ PodsWeight + PodsNumber + SeedsNumber + SeedsWeight\n",
      "# Model mod1\n",
      "F1 =~ NoPodsWeight + PodShape + PodLength + PodWidth + Seed1000W\n",
      "# Model mod2\n",
      "F2 =~ FloCol + StemCol + SeedShape + SeedCol\n",
      "# Model mod3\n",
      "F3 =~ BegFEndF + EndFBegM\n",
      "# Model mod4\n",
      "F4 =~ Height + Hlp\n",
      "=============================\n"
     ]
    }
   ],
   "source": [
    "model.get_lat_struct()\n",
    "model.show_mod()"
   ]
  },
  {
   "cell_type": "markdown",
   "id": "f1250eac",
   "metadata": {},
   "source": [
    "## Add SNPs"
   ]
  },
  {
   "cell_type": "code",
   "execution_count": null,
   "id": "a786f11e",
   "metadata": {},
   "outputs": [
    {
     "name": "stdout",
     "output_type": "stream",
     "text": [
      "-----------\n",
      "F0 =~ 1.0 * PodsWeight\n",
      "F0 =~ 1.9931617663512406 * PodsNumber\n",
      "F0 =~ 1.8888180364762814 * SeedsNumber\n",
      "F0 =~ 1.9501172418497341 * SeedsWeight\n",
      "Skip 0 SNPs\n",
      "2.102206266840767e-07\n",
      "F0 =~ 1.0 * PodsWeight\n",
      "F0 =~ 1.9931617663512406 * PodsNumber\n",
      "F0 =~ 1.8888180364762814 * SeedsNumber\n",
      "F0 =~ 1.9501172418497341 * SeedsWeight\n",
      "F0 ~ -0.18387218392912857*Ca5_39720969\n",
      "Skip 2099 SNPs\n",
      "1.0916242310088364e-07\n",
      "F0 =~ 1.0 * PodsWeight\n",
      "F0 =~ 1.9931617663512406 * PodsNumber\n",
      "F0 =~ 1.8888180364762814 * SeedsNumber\n",
      "F0 =~ 1.9501172418497341 * SeedsWeight\n",
      "F0 ~ -0.18387218392912857*Ca5_39720969\n",
      "F0 ~ -0.15693182798338923*Ca7_30930779\n",
      "Skip 2255 SNPs\n",
      "3.552713678800501e-15\n",
      "F0 =~ 1.0 * PodsWeight\n",
      "F0 =~ 1.9931617663512406 * PodsNumber\n",
      "F0 =~ 1.8888180364762814 * SeedsNumber\n",
      "F0 =~ 1.9501172418497341 * SeedsWeight\n",
      "F0 ~ -0.18387218392912857*Ca5_39720969\n",
      "F0 ~ -0.15693182798338923*Ca7_30930779\n",
      "F0 ~ 0.146226707816762*Ca3_10062634\n",
      "Skip 2263 SNPs\n",
      "NO SNPs added\n",
      "-----------\n",
      "-----------\n",
      "-----------\n",
      "F0 =~ 1.0 * PodsWeight\n",
      "F0 =~ 1.9931617663512406 * PodsNumber\n",
      "F0 =~ 1.8888180364762814 * SeedsNumber\n",
      "F0 =~ 1.9501172418497341 * SeedsWeight\n",
      "F0 ~ -0.18387218392912857*Ca5_39720969\n",
      "F0 ~ -0.15693182798338923*Ca7_30930779\n",
      "F0 ~ 0.146226707816762*Ca3_10062634\n",
      "Skip 0 SNPs\n"
     ]
    },
    {
     "name": "stderr",
     "output_type": "stream",
     "text": [
      "WARNING:root:Sample covariance matrix is not PD. It may indicate that data is bad. Also, it arises often when polychoric/polyserial correlations are used. semopy now will run nearPD subroutines.\n",
      "WARNING:root:Sample covariance matrix is not PD. It may indicate that data is bad. Also, it arises often when polychoric/polyserial correlations are used. semopy now will run nearPD subroutines.\n",
      "WARNING:root:Solver didnt converge, see SolverResult.\n"
     ]
    },
    {
     "name": "stdout",
     "output_type": "stream",
     "text": [
      "2.5010749027387646e-10\n",
      "F0 =~ 1.0 * PodsWeight\n",
      "F0 =~ 1.9931617663512406 * PodsNumber\n",
      "F0 =~ 1.8888180364762814 * SeedsNumber\n",
      "F0 =~ 1.9501172418497341 * SeedsWeight\n",
      "F0 ~ -0.18387218392912857*Ca5_39720969\n",
      "F0 ~ -0.15693182798338923*Ca7_30930779\n",
      "F0 ~ 0.146226707816762*Ca3_10062634\n",
      "SeedsWeight ~ -0.26238890488305144*Ca6_35046173\n",
      "Skip 1241 SNPs\n"
     ]
    },
    {
     "name": "stderr",
     "output_type": "stream",
     "text": [
      "WARNING:root:Sample covariance matrix is not PD. It may indicate that data is bad. Also, it arises often when polychoric/polyserial correlations are used. semopy now will run nearPD subroutines.\n"
     ]
    }
   ],
   "source": [
    "model = model.add_snps(snp_pref=snp_pref)"
   ]
  },
  {
   "cell_type": "code",
   "execution_count": null,
   "id": "egyptian-intervention",
   "metadata": {},
   "outputs": [],
   "source": []
  }
 ],
 "metadata": {
  "kernelspec": {
   "display_name": "Python 3 (ipykernel)",
   "language": "python",
   "name": "python3"
  },
  "language_info": {
   "codemirror_mode": {
    "name": "ipython",
    "version": 3
   },
   "file_extension": ".py",
   "mimetype": "text/x-python",
   "name": "python",
   "nbconvert_exporter": "python",
   "pygments_lexer": "ipython3",
   "version": "3.9.6"
  }
 },
 "nbformat": 4,
 "nbformat_minor": 5
}
