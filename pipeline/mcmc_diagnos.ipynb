{
 "cells": [
  {
   "cell_type": "markdown",
   "metadata": {},
   "source": [
    "# MCMC diagnostics"
   ]
  },
  {
   "cell_type": "code",
   "execution_count": 49,
   "metadata": {},
   "outputs": [],
   "source": [
    "# install.packages(\"coda\")\n",
    "# install.packages(\"mcmcse\")\n",
    "library(\"coda\")\n",
    "\n",
    "kappa_flag = TRUE\n",
    "beta_flag = FALSE\n",
    "\n",
    "\n",
    "if(beta_flag & kappa_flag){\n",
    "    path_names = '../data/cv_model/priors_full_cut_phen/'\n",
    "    path_diagnos = '../data/cv_model/diagnos_full_cut_phen/'\n",
    "    path_data = '../data/cv_model/mcmc_final_full_cut_phen_'    \n",
    "}else if (beta_flag & !kappa_flag){\n",
    "    path_names = '../data/cv_model/priors_full_cut/'\n",
    "    path_diagnos = '../data/cv_model/diagnos_full_cut/'\n",
    "    path_data = '../data/cv_model/mcmc_final_full_cut_'    \n",
    "}else if (!beta_flag & kappa_flag){\n",
    "    path_names = '../data/cv_model/priors_zero_cut_phen/'\n",
    "    path_diagnos = '../data/cv_model/diagnos_zero_cut_phen/'\n",
    "    path_data = '../data/cv_model/mcmc_final_zero_cut_phen_'    \n",
    "}else{\n",
    "    path_names = '../data/cv_model/priors_zero_cut/'\n",
    "    path_diagnos = '../data/cv_model/diagnos_zero_cut/'\n",
    "    path_data = '../data/cv_model/mcmc_final_zero_cut_'    \n",
    "}\n",
    "\n",
    "\n",
    "path_data_list = c()\n",
    "n_chain = 5\n",
    "for(i in 1:n_chain)\n",
    "{\n",
    "    path_data_list = c(path_data_list, paste0(c(path_data, as.character(i-1), '/'), collapse = ''))\n",
    "}\n",
    "\n",
    "\n",
    "idx = 50:2000\n",
    "\n",
    "n_cv = 20\n"
   ]
  },
  {
   "cell_type": "markdown",
   "metadata": {},
   "source": [
    "## Get diagnostics"
   ]
  },
  {
   "cell_type": "code",
   "execution_count": 50,
   "metadata": {},
   "outputs": [
    {
     "name": "stdout",
     "output_type": "stream",
     "text": [
      "[1] 0\n",
      "[1] 1\n",
      "[1] 2\n",
      "[1] 3\n",
      "[1] 4\n",
      "[1] 5\n",
      "[1] 6\n",
      "[1] 7\n",
      "[1] 8\n",
      "[1] 9\n",
      "[1] 10\n",
      "[1] 11\n",
      "[1] 12\n",
      "[1] 13\n",
      "[1] 14\n",
      "[1] 15\n",
      "[1] 16\n",
      "[1] 17\n",
      "[1] 18\n",
      "[1] 19\n"
     ]
    }
   ],
   "source": [
    "for(idata in 0:(n_cv-1))\n",
    "{\n",
    "    print(idata)\n",
    "    x1 = read.table(paste(c(path_data_list[1], 'mcmc_5_', as.character(idata),'.txt'), collapse = ''))\n",
    "    x2 = read.table(paste(c(path_data_list[2], 'mcmc_5_', as.character(idata),'.txt'), collapse = ''))\n",
    "    x3 = read.table(paste(c(path_data_list[3], 'mcmc_5_', as.character(idata),'.txt'), collapse = ''))\n",
    "    x4 = read.table(paste(c(path_data_list[4], 'mcmc_5_', as.character(idata),'.txt'), collapse = ''))\n",
    "    x5 = read.table(paste(c(path_data_list[5], 'mcmc_5_', as.character(idata),'.txt'), collapse = ''))\n",
    "    \n",
    "\n",
    "    x1 = as.mcmc(x1[idx,])\n",
    "    x2 = as.mcmc(x2[idx,])\n",
    "    x3 = as.mcmc(x3[idx,])\n",
    "    x4 = as.mcmc(x4[idx,])\n",
    "    x5 = as.mcmc(x5[idx,])\n",
    "    \n",
    "    \n",
    "    y = mcmc.list(x1,x2,x3)\n",
    "\n",
    "    # Mean and std\n",
    "    res = summary(y)\n",
    "    d1 = res[[1]]\n",
    "    \n",
    "    # Mean for x_i\n",
    "    d_x = cbind(summary(x1)[[1]][,'Mean'], \n",
    "                summary(x2)[[1]][,'Mean'],\n",
    "               summary(x3)[[1]][,'Mean'], \n",
    "               summary(x4)[[1]][,'Mean'],\n",
    "               summary(x5)[[1]][,'Mean'])\n",
    "    \n",
    "\n",
    "    # Gelman-Rubin Diagnostic\n",
    "    gl = gelman.diag(y, confidence = 0.98, transform=FALSE, autoburnin=TRUE,\n",
    "                multivariate=TRUE)\n",
    "    Gelman_Rubin = gl[[1]][,1]\n",
    "\n",
    "    # Effective size\n",
    "    ESS = effectiveSize(y)\n",
    "\n",
    "    # Names\n",
    "\n",
    "    var_names = read.table(paste(c(path_names, 'names_5_', as.character(idata),'.txt'), collapse = ''))\n",
    "    colnames(var_names) <- c('Variable1', 'Variable2') \n",
    "\n",
    "\n",
    "    \n",
    "    # Combine all\n",
    "    d = cbind(var_names, d1, Gelman_Rubin, ESS, d_x)\n",
    "    head(d)\n",
    "\n",
    "    write.table(file = paste(c(path_diagnos, 'diagnos_5_new_', as.character(idata),'.txt'), collapse = ''), \n",
    "                x = d, quote = FALSE, sep = '\\t', row.names = FALSE)\n",
    "   \n",
    "}\n"
   ]
  },
  {
   "cell_type": "markdown",
   "metadata": {},
   "source": [
    "## Diagnostics summary"
   ]
  },
  {
   "cell_type": "code",
   "execution_count": 47,
   "metadata": {},
   "outputs": [],
   "source": [
    "min_ess = c()\n",
    "n_gl = c()\n",
    "n_param = c()\n",
    "mean_ess = c()\n",
    "median_ess = c()\n",
    "for(idata in 0:(n_cv-1))\n",
    "{\n",
    "    d = read.table(file = paste(c(path_diagnos, 'diagnos_5_new_', as.character(idata),'.txt'), collapse = ''), \n",
    "                   sep = '\\t', header = TRUE)\n",
    "    min_ess = c(min_ess, min(d[,'ESS']))\n",
    "    mean_ess = c(mean_ess, mean(d[,'ESS']))\n",
    "    median_ess = c(median_ess, median(d[,'ESS']))\n",
    "    n_gl = c(n_gl, sum(d[,'Gelman_Rubin'] > 1.05))\n",
    "    n_param = c(n_param,dim(d)[1])\n",
    "}\n",
    "\n"
   ]
  },
  {
   "cell_type": "code",
   "execution_count": 48,
   "metadata": {},
   "outputs": [
    {
     "data": {
      "text/html": [
       "<ol class=list-inline>\n",
       "\t<li>6</li>\n",
       "\t<li>3</li>\n",
       "\t<li>4</li>\n",
       "\t<li>0</li>\n",
       "\t<li>0</li>\n",
       "\t<li>3</li>\n",
       "\t<li>0</li>\n",
       "\t<li>1</li>\n",
       "\t<li>7</li>\n",
       "\t<li>0</li>\n",
       "\t<li>6</li>\n",
       "\t<li>0</li>\n",
       "\t<li>8</li>\n",
       "\t<li>2</li>\n",
       "\t<li>4</li>\n",
       "\t<li>0</li>\n",
       "\t<li>5</li>\n",
       "\t<li>5</li>\n",
       "\t<li>0</li>\n",
       "\t<li>1</li>\n",
       "</ol>\n"
      ],
      "text/latex": [
       "\\begin{enumerate*}\n",
       "\\item 6\n",
       "\\item 3\n",
       "\\item 4\n",
       "\\item 0\n",
       "\\item 0\n",
       "\\item 3\n",
       "\\item 0\n",
       "\\item 1\n",
       "\\item 7\n",
       "\\item 0\n",
       "\\item 6\n",
       "\\item 0\n",
       "\\item 8\n",
       "\\item 2\n",
       "\\item 4\n",
       "\\item 0\n",
       "\\item 5\n",
       "\\item 5\n",
       "\\item 0\n",
       "\\item 1\n",
       "\\end{enumerate*}\n"
      ],
      "text/markdown": [
       "1. 6\n",
       "2. 3\n",
       "3. 4\n",
       "4. 0\n",
       "5. 0\n",
       "6. 3\n",
       "7. 0\n",
       "8. 1\n",
       "9. 7\n",
       "10. 0\n",
       "11. 6\n",
       "12. 0\n",
       "13. 8\n",
       "14. 2\n",
       "15. 4\n",
       "16. 0\n",
       "17. 5\n",
       "18. 5\n",
       "19. 0\n",
       "20. 1\n",
       "\n",
       "\n"
      ],
      "text/plain": [
       " [1] 6 3 4 0 0 3 0 1 7 0 6 0 8 2 4 0 5 5 0 1"
      ]
     },
     "metadata": {},
     "output_type": "display_data"
    },
    {
     "data": {
      "text/html": [
       "<ol class=list-inline>\n",
       "\t<li>75</li>\n",
       "\t<li>77</li>\n",
       "\t<li>74</li>\n",
       "\t<li>78</li>\n",
       "\t<li>73</li>\n",
       "\t<li>76</li>\n",
       "\t<li>76</li>\n",
       "\t<li>76</li>\n",
       "\t<li>77</li>\n",
       "\t<li>71</li>\n",
       "\t<li>73</li>\n",
       "\t<li>77</li>\n",
       "\t<li>77</li>\n",
       "\t<li>75</li>\n",
       "\t<li>81</li>\n",
       "\t<li>75</li>\n",
       "\t<li>79</li>\n",
       "\t<li>77</li>\n",
       "\t<li>79</li>\n",
       "\t<li>80</li>\n",
       "</ol>\n"
      ],
      "text/latex": [
       "\\begin{enumerate*}\n",
       "\\item 75\n",
       "\\item 77\n",
       "\\item 74\n",
       "\\item 78\n",
       "\\item 73\n",
       "\\item 76\n",
       "\\item 76\n",
       "\\item 76\n",
       "\\item 77\n",
       "\\item 71\n",
       "\\item 73\n",
       "\\item 77\n",
       "\\item 77\n",
       "\\item 75\n",
       "\\item 81\n",
       "\\item 75\n",
       "\\item 79\n",
       "\\item 77\n",
       "\\item 79\n",
       "\\item 80\n",
       "\\end{enumerate*}\n"
      ],
      "text/markdown": [
       "1. 75\n",
       "2. 77\n",
       "3. 74\n",
       "4. 78\n",
       "5. 73\n",
       "6. 76\n",
       "7. 76\n",
       "8. 76\n",
       "9. 77\n",
       "10. 71\n",
       "11. 73\n",
       "12. 77\n",
       "13. 77\n",
       "14. 75\n",
       "15. 81\n",
       "16. 75\n",
       "17. 79\n",
       "18. 77\n",
       "19. 79\n",
       "20. 80\n",
       "\n",
       "\n"
      ],
      "text/plain": [
       " [1] 75 77 74 78 73 76 76 76 77 71 73 77 77 75 81 75 79 77 79 80"
      ]
     },
     "metadata": {},
     "output_type": "display_data"
    },
    {
     "data": {
      "text/html": [
       "0.0360419397116645"
      ],
      "text/latex": [
       "0.0360419397116645"
      ],
      "text/markdown": [
       "0.0360419397116645"
      ],
      "text/plain": [
       "[1] 0.03604194"
      ]
     },
     "metadata": {},
     "output_type": "display_data"
    }
   ],
   "source": [
    "n_gl\n",
    "n_param\n",
    "sum(n_gl) / sum(n_param)"
   ]
  },
  {
   "cell_type": "code",
   "execution_count": 40,
   "metadata": {},
   "outputs": [
    {
     "data": {
      "text/html": [
       "163.557830779991"
      ],
      "text/latex": [
       "163.557830779991"
      ],
      "text/markdown": [
       "163.557830779991"
      ],
      "text/plain": [
       "[1] 163.5578"
      ]
     },
     "metadata": {},
     "output_type": "display_data"
    },
    {
     "data": {
      "text/html": [
       "3383.55162693007"
      ],
      "text/latex": [
       "3383.55162693007"
      ],
      "text/markdown": [
       "3383.55162693007"
      ],
      "text/plain": [
       "[1] 3383.552"
      ]
     },
     "metadata": {},
     "output_type": "display_data"
    },
    {
     "data": {
      "text/html": [
       "3852.31901584123"
      ],
      "text/latex": [
       "3852.31901584123"
      ],
      "text/markdown": [
       "3852.31901584123"
      ],
      "text/plain": [
       "[1] 3852.319"
      ]
     },
     "metadata": {},
     "output_type": "display_data"
    }
   ],
   "source": [
    "mean(min_ess)\n",
    "mean(mean_ess)\n",
    "mean(median_ess)"
   ]
  },
  {
   "cell_type": "code",
   "execution_count": null,
   "metadata": {},
   "outputs": [],
   "source": []
  }
 ],
 "metadata": {
  "kernelspec": {
   "display_name": "R",
   "language": "R",
   "name": "ir"
  },
  "language_info": {
   "codemirror_mode": "r",
   "file_extension": ".r",
   "mimetype": "text/x-r-source",
   "name": "R",
   "pygments_lexer": "r",
   "version": "3.6.1"
  }
 },
 "nbformat": 4,
 "nbformat_minor": 2
}
