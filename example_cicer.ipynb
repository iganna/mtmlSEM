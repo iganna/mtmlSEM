{
 "cells": [
  {
   "cell_type": "markdown",
   "id": "1aebfc19",
   "metadata": {},
   "source": [
    "# Chichpea example"
   ]
  },
  {
   "cell_type": "markdown",
   "id": "54344942",
   "metadata": {},
   "source": [
    "## Setup"
   ]
  },
  {
   "cell_type": "code",
   "execution_count": 6,
   "id": "ef7eb3f5",
   "metadata": {},
   "outputs": [],
   "source": [
    "import os\n",
    "from mtml_model import mtmlModel\n",
    "from dataset import Data, CVset\n",
    "from pandas import read_csv\n",
    "from optimisation import *\n",
    "from semopy.efa import explore_cfa_model\n",
    "from utils import *\n",
    "\n",
    "path_data = 'data_cicer/'\n",
    "file_phens = path_data + 'data_phens.txt'\n",
    "file_snps = path_data + 'snp_2579_renamed.txt'\n",
    "snp_pref = 'Ca'\n"
   ]
  },
  {
   "cell_type": "markdown",
   "id": "c7bb241a",
   "metadata": {},
   "source": [
    "## Read data"
   ]
  },
  {
   "cell_type": "code",
   "execution_count": 3,
   "id": "343fd934",
   "metadata": {},
   "outputs": [
    {
     "name": "stdout",
     "output_type": "stream",
     "text": [
      "Germ            0\n",
      "GBegF           0\n",
      "BegFEndF        0\n",
      "EndFBegM        0\n",
      "BegMEndM        0\n",
      "FloCol          0\n",
      "StemCol         0\n",
      "BushShape       0\n",
      "LeafSize        0\n",
      "FlowStemCol     0\n",
      "AscoRes         0\n",
      "StemBr          0\n",
      "StemL1ord       0\n",
      "StemBr1ord      0\n",
      "StemBr2ord      0\n",
      "PodD            0\n",
      "PodS            0\n",
      "Height          0\n",
      "Hlp             0\n",
      "NoPodsWeight    0\n",
      "PodsWeight      0\n",
      "PodsNumber      0\n",
      "SeedsNumber     0\n",
      "SeedsWeight     0\n",
      "PodShape        0\n",
      "PodLength       0\n",
      "PodWidth        0\n",
      "SeedShape       0\n",
      "SeedCol         0\n",
      "Seed1000W       0\n",
      "dtype: int64\n",
      "404\n"
     ]
    }
   ],
   "source": [
    "data_phens = read_csv(file_phens, sep='\\t', index_col=0)\n",
    "\n",
    "print(data_phens.isna().sum(axis=0))\n",
    "\n",
    "# Remove missing data\n",
    "data_phens = data_phens.loc[data_phens.isna().sum(axis=1) == 0, :]\n",
    "data_phens = data_phens.iloc[:, list(data_phens.nunique() > 2)]\n",
    "data_snps = read_csv(file_snps, sep='\\t', index_col=0)\n",
    "\n",
    "# Create data object\n",
    "data = Data(d_snps=data_snps, d_phens=data_phens)\n",
    "print(data.n_samples)"
   ]
  },
  {
   "cell_type": "markdown",
   "id": "10ae025e",
   "metadata": {},
   "source": [
    "## Create model"
   ]
  },
  {
   "cell_type": "code",
   "execution_count": 4,
   "id": "ea1e3ec3",
   "metadata": {},
   "outputs": [
    {
     "name": "stdout",
     "output_type": "stream",
     "text": [
      "SEM model was not defined\n"
     ]
    }
   ],
   "source": [
    "model = mtmlModel(data=data)"
   ]
  },
  {
   "cell_type": "code",
   "execution_count": 7,
   "id": "237a86d6",
   "metadata": {},
   "outputs": [
    {
     "name": "stdout",
     "output_type": "stream",
     "text": [
      "Type of the latent structure is unconnect\n",
      "======== show models ========\n",
      "# Model mod0\n",
      "F0 =~ PodsWeight + PodsNumber + SeedsNumber + SeedsWeight\n",
      "# Model mod1\n",
      "F1 =~ NoPodsWeight + PodShape + PodLength + PodWidth + Seed1000W\n",
      "# Model mod2\n",
      "F2 =~ FloCol + StemCol + SeedShape + SeedCol\n",
      "# Model mod3\n",
      "F3 =~ BegFEndF + EndFBegM\n",
      "# Model mod4\n",
      "F4 =~ Height + Hlp\n",
      "=============================\n"
     ]
    }
   ],
   "source": [
    "model.get_lat_struct()\n",
    "model.show_mod()"
   ]
  },
  {
   "cell_type": "markdown",
   "id": "1e256b46",
   "metadata": {},
   "source": [
    "## Add SNPs"
   ]
  },
  {
   "cell_type": "code",
   "execution_count": null,
   "id": "6e3848fc",
   "metadata": {},
   "outputs": [
    {
     "name": "stdout",
     "output_type": "stream",
     "text": [
      "F0\n",
      "PodsNumber\n",
      "SeedsWeight\n",
      "PodsWeight\n",
      "SeedsNumber\n",
      "F0 =~ 1.0 * PodsWeight\n",
      "F0 =~ 0.9997553747355805 * PodsNumber\n",
      "F0 =~ 0.9071818056783406 * SeedsNumber\n",
      "F0 =~ 1.0759638553617537 * SeedsWeight\n",
      "F0\n",
      "F0 =~ 1.0 * PodsWeight\n",
      "F0 =~ 0.9997553747355805 * PodsNumber\n",
      "F0 =~ 0.9071818056783406 * SeedsNumber\n",
      "F0 =~ 1.0759638553617537 * SeedsWeight\n",
      "-----------\n",
      "16.829923656290944 16.829923656290944\n",
      "Skip 0 SNPs\n",
      "0.7189625998202747\n",
      "16.829923656290944\n",
      "0.7178690211083589\n",
      "8.306973317872174\n",
      "13.469395010682476 13.469395010682476\n",
      "Skip 423 SNPs\n",
      "0.7423524955828835\n",
      "13.469395010682476\n",
      "0.7180327645599238\n",
      "4.324537680509\n",
      "11.606186203742588 11.606186203742588\n",
      "Skip 855 SNPs\n",
      "0.7573263477964307\n",
      "11.606186203742588\n",
      "0.7179516697183779\n",
      "2.6163558255534625\n",
      "10.700739607585295 10.700739607585295\n",
      "Skip 1006 SNPs\n",
      "0.7660398966927211\n",
      "10.700739607585295\n",
      "0.7178979415213913\n",
      "1.785389679413349\n",
      "10.071292874504355 10.071292874504355\n",
      "Skip 1046 SNPs\n",
      "0.868058063920019\n",
      "10.071292874504355\n",
      "0.7182471031545754\n",
      "1.4029834003126744\n",
      "9.436412182502607 9.436412182502607\n",
      "Skip 1117 SNPs\n",
      "0.8885931211440194\n",
      "9.436412182502607\n",
      "0.7181420210888176\n",
      "0.8333059507878922\n",
      "9.529330290000857 9.529330290000857\n",
      "Skip 1192 SNPs\n",
      "0.9209614870334928\n",
      "9.529330290000857\n",
      "0.7185287877422031\n",
      "0.8345709753927046\n",
      "9.382384659741046 9.382384659741046\n",
      "Skip 1203 SNPs\n",
      "0.9263634187578837\n",
      "9.382384659741046\n",
      "0.7186028140571041\n",
      "0.8020510917017489\n",
      "9.153732000557014 9.153732000557014\n",
      "Skip 1237 SNPs\n",
      "0.930361133393788\n",
      "9.153732000557014\n",
      "0.7183681427330635\n",
      "0.6875480606123396\n",
      "8.96096581787409 8.96096581787409\n",
      "Skip 1405 SNPs\n",
      "0.9332226678840865\n",
      "8.96096581787409\n",
      "0.7185195343255497\n",
      "0.6050174524548062\n",
      "F0 =~ 1.0 * PodsWeight\n",
      "F0 =~ 0.9997553747355805 * PodsNumber\n",
      "F0 =~ 0.9071818056783406 * SeedsNumber\n",
      "F0 =~ 1.0759638553617537 * SeedsWeight\n",
      "F0 ~ -0.44538794410775767*Ca3_28437425\n",
      "F0 ~ 0.3227887260518876*Ca2_17161867\n",
      "F0 ~ 0.29802719680437206*Ca5_38015453\n",
      "F0 ~ 0.28453166147899506*Ca6_26469783\n",
      "F0 ~ 0.2839469827873234*Ca6_16385056\n",
      "F0 ~ -0.24419894830865163*Ca3_28269832\n",
      "F0 ~ -0.2482879103138365*Ca4_1394730\n",
      "F0 ~ 0.2333063512373397*Ca4_12690077\n",
      "F0 ~ -0.22814319862846602*Ca1_1033034\n",
      "F0 ~ -0.22965189126153024*Ca5_24904659\n",
      "-----------\n",
      "-----------\n",
      "F1\n",
      "PodShape\n",
      "PodLength\n",
      "PodWidth\n",
      "NoPodsWeight\n",
      "Seed1000W\n",
      "F1 =~ 1.0 * NoPodsWeight\n",
      "F1 =~ -1.1666642750085 * PodShape\n",
      "F1 =~ 1.5059751335472542 * PodLength\n",
      "F1 =~ 1.5254824041686028 * PodWidth\n",
      "F1 =~ 1.4200690004810044 * Seed1000W\n",
      "F1\n",
      "F1 =~ 1.0 * NoPodsWeight\n",
      "F1 =~ -1.1666642750085 * PodShape\n",
      "F1 =~ 1.5059751335472542 * PodLength\n",
      "F1 =~ 1.5254824041686028 * PodWidth\n",
      "F1 =~ 1.4200690004810044 * Seed1000W\n",
      "-----------\n",
      "23.942438891704146 23.94243889170415\n",
      "Skip 0 SNPs\n",
      "0.23172500370290994\n",
      "23.94243889170415\n",
      "0.10966128034580347\n",
      "3.857708849273422\n",
      "21.818333370065112 21.818333370065112\n",
      "Skip 115 SNPs\n",
      "0.2807819752370797\n",
      "21.818333370065112\n",
      "0.11067085933201959\n",
      "1.7616056318768436\n",
      "20.965960320661797 20.965960320661797\n",
      "Skip 486 SNPs\n",
      "0.28930290492973043\n",
      "20.965960320661797\n",
      "0.11078810523558325\n",
      "0.8793282082283689\n",
      "20.696108316994778 20.696108316994778\n",
      "Skip 503 SNPs\n",
      "0.3348491230358448\n",
      "20.696108316994778\n",
      "0.11166375666914252\n",
      "0.5926268428603656\n",
      "20.46176576732075 20.46176576732075\n",
      "Skip 576 SNPs\n",
      "0.40594466665242024\n",
      "20.46176576732075\n",
      "0.11293269323448207\n",
      "0.33347700938951874\n",
      "20.35784139985098 20.35784139985098\n",
      "Skip 730 SNPs\n",
      "0.4683063870281803\n",
      "20.35784139985098\n",
      "0.11639991884774537\n",
      "0.2391856374492285\n",
      "20.238690161260944 20.238690161260937\n",
      "Skip 842 SNPs\n"
     ]
    }
   ],
   "source": [
    "model = model.add_snps(snp_pref=snp_pref)"
   ]
  }
 ],
 "metadata": {
  "kernelspec": {
   "display_name": "Python 3",
   "language": "python",
   "name": "python3"
  },
  "language_info": {
   "codemirror_mode": {
    "name": "ipython",
    "version": 3
   },
   "file_extension": ".py",
   "mimetype": "text/x-python",
   "name": "python",
   "nbconvert_exporter": "python",
   "pygments_lexer": "ipython3",
   "version": "3.7.9"
  }
 },
 "nbformat": 4,
 "nbformat_minor": 5
}
